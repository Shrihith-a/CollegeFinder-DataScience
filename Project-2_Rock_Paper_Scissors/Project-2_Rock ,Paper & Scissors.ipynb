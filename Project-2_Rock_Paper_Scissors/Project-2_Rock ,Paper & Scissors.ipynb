{
 "cells": [
  {
   "cell_type": "markdown",
   "metadata": {},
   "source": [
    "# ***Project-2: Rock ,Paper & Scissors***"
   ]
  },
  {
   "cell_type": "code",
   "execution_count": null,
   "metadata": {},
   "outputs": [],
   "source": [
    "i=0\n",
    "print(\"Lets play Rock, Paper and Scissor\")\n",
    "p1 = 0\n",
    "p2 = 0\n",
    "while (i<3):\n",
    "    ## user input\n",
    "\n",
    "    # Printing the entry of game\n",
    "    print(\"Lets play Rock, Paper and Scissor\")\n",
    "    # players serlection as a variable  here considering two players\n",
    "    # Selection of input r is Rock ,p is Paper & s = Scissors\n",
    "    player1 = str(input(\"Choose between r/p/s [Rock, Paper or scissors]\\n\"))\n",
    "    player2 = str(input(\"Choose between r/p/s [Rock, Paper or scissors]\\n\"))\n",
    "\n",
    "\n",
    "    ### logic using conditional checks\n",
    "    # Game Winner Condition:\n",
    "        # Paper and Scissor vice  versa=>Scissor win\n",
    "        # Rock and Scissor vice versa =>Rock win\n",
    "        # Paper and Rock  vice versa =>Paper win\n",
    "        # selecting same ex: rock and rock +> Tie\n",
    "\n",
    "    if (player1=='r') and (player2=='r'):\n",
    "        print(\"Player1 choose {option} and Player2 choose {option2}\".format(option=player1,option2=player2))\n",
    "        print(\"That's a tie\")\n",
    "    elif (player1=='r') and (player2=='p'):\n",
    "        print(\"Player1 choose {option} and Player2 choose {option2}\".format(option=player1,option2=player2))\n",
    "        print(\"Player2 has won the game\")\n",
    "        p2 = p2+1\n",
    "        print(\"The score of Player 2 is : \",p2)\n",
    "    elif (player1=='r') and (player2=='s'):\n",
    "        print(\"Player1 choose {option} and Player2 choose {option2}\".format(option=player1,option2=player2))\n",
    "        print(\"Player1 won the game\")\n",
    "        p1 = p1 + 1\n",
    "        print(\"The score of Player 1 is : \",p1)\n",
    "\n",
    "    ### logic for paper\n",
    "    elif (player1=='p') and (player2=='r'):\n",
    "        print(\"Player1 choose {option} and Player2 choose {option2}\".format(option=player1,option2=player2))\n",
    "        print(\"Player1 won the game\")\n",
    "        p1 = p1 + 1\n",
    "        print(\"The score of Player 1 is : \",p1)\n",
    "    elif (player1=='p') and (player2=='p'):\n",
    "        print(\"Player1 choose {option} and Player2 choose {option2}\".format(option=player1,option2=player2))\n",
    "        print(\"That's a tie\")\n",
    "    elif (player1=='p') and (player2=='s'):\n",
    "        print(\"Player1 choose {option} and Player2 choose {option2}\".format(option=player1,option2=player2))\n",
    "        print(\"Player 2 won the game\")\n",
    "        p2 = p2+1\n",
    "        print(\"The score of Player 2 is : \",p2)\n",
    "\n",
    "    ## logic for scissor\n",
    "    elif (player1=='s') and (player2=='r'):\n",
    "        print(\"Player1 choose {option} and Player2 choose {option2}\".format(option=player1,option2=player2))\n",
    "        print(\"Player2 won the game\")\n",
    "        p2 = p2+1\n",
    "        print(\"The score of Player 2 is : \",p2)\n",
    "        \n",
    "    elif (player1=='s') and (player2=='p'):\n",
    "        print(\"Player1 choose {option} and Player2 choose {option2}\".format(option=player1,option2=player2))\n",
    "        print(\"Player1 won the game\")\n",
    "        p1 = p1 + 1\n",
    "        print(\"The score of Player 1 is : \",p1)\n",
    "        \n",
    "    elif (player1=='s') and (player2=='s'):\n",
    "        print(\"Player1 choose {option} and Player2 choose {option2}\".format(option=player1,option2=player2))\n",
    "        print(\"That's a tie\")\n",
    "\n",
    "    ## logic for error\n",
    "    else:\n",
    "        print(\"Error choose correct option\")\n",
    "    i = i+1"
   ]
  },
  {
   "cell_type": "markdown",
   "metadata": {},
   "source": [
    "### **2nd way player vs computer using random module**\n",
    "\n",
    "1. rock paper scissors is a hand game for two or more players. Participants say “rock, paper, scissors” and then simultaneously form their hands into the shape of a rock (a fist), a piece of paper (palm facing downward), or a pair of scissors (two fingers extended). The rules are straightforward:\n",
    "\n",
    "   -  Rock smashes scissors.\n",
    "   -  Paper covers rock.\n",
    "   -  Scissors cut paper."
   ]
  },
  {
   "cell_type": "code",
   "execution_count": 3,
   "metadata": {},
   "outputs": [
    {
     "name": "stdout",
     "output_type": "stream",
     "text": [
      "\n",
      "You chose scissors, computer chose paper.\n",
      "\n",
      "Scissors cuts paper! You win!\n"
     ]
    }
   ],
   "source": [
    "# import module random\n",
    "import random\n",
    "\n",
    "# user input for user_action and possible action \n",
    "user_action = input(\"Enter a choice (rock, paper, scissors): \")\n",
    "possible_actions = [\"rock\", \"paper\", \"scissors\"]\n",
    "computer_action = random.choice(possible_actions)\n",
    "print(f\"\\nYou chose {user_action}, computer chose {computer_action}.\\n\")\n",
    "\n",
    "# logic using conditional checks\n",
    "if user_action == computer_action:\n",
    "    print(f\"Both players selected {user_action}. It's a tie!\")\n",
    "\n",
    "elif user_action == \"rock\":\n",
    "    if computer_action == \"scissors\":\n",
    "        print(\"Rock smashes scissors! You win!\")\n",
    "    else:\n",
    "        print(\"Paper covers rock! You lose.\")\n",
    "elif user_action == \"paper\":\n",
    "    if computer_action == \"rock\":\n",
    "        print(\"Paper covers rock! You win!\")\n",
    "    else:\n",
    "        print(\"Scissors cuts paper! You lose.\")\n",
    "elif user_action == \"scissors\":\n",
    "    if computer_action == \"paper\":\n",
    "        print(\"Scissors cuts paper! You win!\")\n",
    "    else:\n",
    "        print(\"Rock smashes scissors! You lose.\")"
   ]
  }
 ],
 "metadata": {
  "kernelspec": {
   "display_name": "Python 3.9.6 64-bit",
   "language": "python",
   "name": "python3"
  },
  "language_info": {
   "codemirror_mode": {
    "name": "ipython",
    "version": 3
   },
   "file_extension": ".py",
   "mimetype": "text/x-python",
   "name": "python",
   "nbconvert_exporter": "python",
   "pygments_lexer": "ipython3",
   "version": "3.9.6"
  },
  "orig_nbformat": 4,
  "vscode": {
   "interpreter": {
    "hash": "11938c6bc6919ae2720b4d5011047913343b08a43b18698fd82dedb0d4417594"
   }
  }
 },
 "nbformat": 4,
 "nbformat_minor": 2
}
