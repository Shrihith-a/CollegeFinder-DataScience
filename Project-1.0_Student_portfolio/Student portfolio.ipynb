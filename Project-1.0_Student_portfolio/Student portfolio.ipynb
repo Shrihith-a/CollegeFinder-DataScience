{
 "cells": [
  {
   "cell_type": "markdown",
   "id": "eff4a82d",
   "metadata": {},
   "source": [
    "# Student Portfolio"
   ]
  },
  {
   "cell_type": "code",
   "execution_count": 1,
   "id": "01bcb1e2",
   "metadata": {},
   "outputs": [
    {
     "name": "stdout",
     "output_type": "stream",
     "text": [
      "Enter the name of the student : Raja\n",
      "Enter the name of the School : Bangalore School\n",
      "Enter the student standard and Division : 10 'A'\n",
      " Enter the Roll number in values only : 27\n",
      "Enter the name of the Subject1 : Science\n",
      "Enter the name of the subject2 : Maths\n",
      "Enter the name of the subject3 : English\n",
      "Enter the Score of subject1 in values : 75\n",
      "Enter the Score of subject2 in values : 65\n",
      "Enter the Score of subject3 in values : 80\n",
      "Average percentage of 3 Subjects Scores are :  73.33333333333333 %\n"
     ]
    }
   ],
   "source": [
    "Name = input(\"Enter the name of the student : \")\n",
    "School_Name = input(\"Enter the name of the School : \")\n",
    "Std_Div = input(\"Enter the student standard and Division : \")\n",
    "Rollno = int(input(\" Enter the Roll number in values only : \"))\n",
    "Subject1 = input(\"Enter the name of the Subject1 : \")\n",
    "Subject2 = input(\"Enter the name of the subject2 : \")\n",
    "Subject3 = input(\"Enter the name of the subject3 : \")\n",
    "ScoreSub1 = int(input(\"Enter the Score of subject1 in values : \"))\n",
    "ScoreSub2 = int(input(\"Enter the Score of subject2 in values : \"))\n",
    "ScoreSub3 = int(input(\"Enter the Score of subject3 in values : \"))\n",
    "Percentage_scores = ((ScoreSub1 + ScoreSub2 + ScoreSub3)/300) *100\n",
    "print(\"Average percentage of 3 Subjects Scores are : \", Percentage_scores , \"%\")"
   ]
  },
  {
   "cell_type": "code",
   "execution_count": null,
   "id": "d5188581",
   "metadata": {},
   "outputs": [],
   "source": []
  },
  {
   "cell_type": "code",
   "execution_count": null,
   "id": "cb9489fa",
   "metadata": {},
   "outputs": [],
   "source": []
  }
 ],
 "metadata": {
  "kernelspec": {
   "display_name": "Python 3 (ipykernel)",
   "language": "python",
   "name": "python3"
  },
  "language_info": {
   "codemirror_mode": {
    "name": "ipython",
    "version": 3
   },
   "file_extension": ".py",
   "mimetype": "text/x-python",
   "name": "python",
   "nbconvert_exporter": "python",
   "pygments_lexer": "ipython3",
   "version": "3.9.6"
  }
 },
 "nbformat": 4,
 "nbformat_minor": 5
}
